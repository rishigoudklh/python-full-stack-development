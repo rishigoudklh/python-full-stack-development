{
  "nbformat": 4,
  "nbformat_minor": 0,
  "metadata": {
    "colab": {
      "name": "setOp.ipynb",
      "provenance": [],
      "authorship_tag": "ABX9TyO/ExNidZ3m0kvPxbZ7IrlJ",
      "include_colab_link": true
    },
    "kernelspec": {
      "name": "python3",
      "display_name": "Python 3"
    },
    "language_info": {
      "name": "python"
    }
  },
  "cells": [
    {
      "cell_type": "markdown",
      "metadata": {
        "id": "view-in-github",
        "colab_type": "text"
      },
      "source": [
        "<a href=\"https://colab.research.google.com/github/rishigoudklh/python-full-stack-development/blob/main/setOp.ipynb\" target=\"_parent\"><img src=\"https://colab.research.google.com/assets/colab-badge.svg\" alt=\"Open In Colab\"/></a>"
      ]
    },
    {
      "cell_type": "code",
      "source": [
        "my_set.update(\"KLH\")\n",
        "print(my_set)"
      ],
      "metadata": {
        "colab": {
          "base_uri": "https://localhost:8080/"
        },
        "id": "3Qh8nYOmE2uh",
        "outputId": "08e9aec5-c0c8-4b26-aa91-00935e34abb3"
      },
      "execution_count": 3,
      "outputs": [
        {
          "output_type": "stream",
          "name": "stdout",
          "text": [
            "{'L', 9, 12, 'K', 'H'}\n"
          ]
        }
      ]
    },
    {
      "cell_type": "code",
      "execution_count": 1,
      "metadata": {
        "colab": {
          "base_uri": "https://localhost:8080/"
        },
        "id": "_4VLYcvTDZF9",
        "outputId": "bf4da918-e85c-4f74-a330-d8608be58c4b"
      },
      "outputs": [
        {
          "output_type": "stream",
          "name": "stdout",
          "text": [
            "set()\n",
            "{9, 12}\n"
          ]
        }
      ],
      "source": [
        "my_set=set()\n",
        "print(my_set)\n",
        "my_set.update([9,12])\n",
        "print(my_set)"
      ]
    },
    {
      "cell_type": "code",
      "source": [
        ""
      ],
      "metadata": {
        "id": "GK8GLOL6GwkA"
      },
      "execution_count": null,
      "outputs": []
    }
  ]
}